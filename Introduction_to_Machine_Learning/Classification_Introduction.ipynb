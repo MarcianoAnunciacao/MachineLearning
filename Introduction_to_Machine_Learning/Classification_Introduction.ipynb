{
  "nbformat": 4,
  "nbformat_minor": 0,
  "metadata": {
    "colab": {
      "name": "Classification.ipynb",
      "provenance": []
    },
    "kernelspec": {
      "name": "python3",
      "display_name": "Python 3"
    }
  },
  "cells": [
    {
      "cell_type": "code",
      "metadata": {
        "id": "S8u06vVqCKUZ"
      },
      "source": [
        "import pandas as pd"
      ],
      "execution_count": 12,
      "outputs": []
    },
    {
      "cell_type": "code",
      "metadata": {
        "id": "RdZHszvHCVpO"
      },
      "source": [
        "data = pd.read_csv('https://gist.githubusercontent.com/guilhermesilveira/2d2efa37d66b6c84a722ea627a897ced/raw/10968b997d885cbded1c92938c7a9912ba41c615/tracking.csv')"
      ],
      "execution_count": 13,
      "outputs": []
    },
    {
      "cell_type": "code",
      "metadata": {
        "colab": {
          "base_uri": "https://localhost:8080/",
          "height": 204
        },
        "id": "3DszrAIoCZCm",
        "outputId": "1177c1df-e3cc-48af-83ef-170a4a1f0bbf"
      },
      "source": [
        "dados.head()"
      ],
      "execution_count": 14,
      "outputs": [
        {
          "output_type": "execute_result",
          "data": {
            "text/html": [
              "<div>\n",
              "<style scoped>\n",
              "    .dataframe tbody tr th:only-of-type {\n",
              "        vertical-align: middle;\n",
              "    }\n",
              "\n",
              "    .dataframe tbody tr th {\n",
              "        vertical-align: top;\n",
              "    }\n",
              "\n",
              "    .dataframe thead th {\n",
              "        text-align: right;\n",
              "    }\n",
              "</style>\n",
              "<table border=\"1\" class=\"dataframe\">\n",
              "  <thead>\n",
              "    <tr style=\"text-align: right;\">\n",
              "      <th></th>\n",
              "      <th>home</th>\n",
              "      <th>how_it_works</th>\n",
              "      <th>contact</th>\n",
              "      <th>bought</th>\n",
              "    </tr>\n",
              "  </thead>\n",
              "  <tbody>\n",
              "    <tr>\n",
              "      <th>0</th>\n",
              "      <td>1</td>\n",
              "      <td>1</td>\n",
              "      <td>0</td>\n",
              "      <td>0</td>\n",
              "    </tr>\n",
              "    <tr>\n",
              "      <th>1</th>\n",
              "      <td>1</td>\n",
              "      <td>1</td>\n",
              "      <td>0</td>\n",
              "      <td>0</td>\n",
              "    </tr>\n",
              "    <tr>\n",
              "      <th>2</th>\n",
              "      <td>1</td>\n",
              "      <td>1</td>\n",
              "      <td>0</td>\n",
              "      <td>0</td>\n",
              "    </tr>\n",
              "    <tr>\n",
              "      <th>3</th>\n",
              "      <td>1</td>\n",
              "      <td>1</td>\n",
              "      <td>0</td>\n",
              "      <td>0</td>\n",
              "    </tr>\n",
              "    <tr>\n",
              "      <th>4</th>\n",
              "      <td>1</td>\n",
              "      <td>1</td>\n",
              "      <td>0</td>\n",
              "      <td>0</td>\n",
              "    </tr>\n",
              "  </tbody>\n",
              "</table>\n",
              "</div>"
            ],
            "text/plain": [
              "   home  how_it_works  contact  bought\n",
              "0     1             1        0       0\n",
              "1     1             1        0       0\n",
              "2     1             1        0       0\n",
              "3     1             1        0       0\n",
              "4     1             1        0       0"
            ]
          },
          "metadata": {
            "tags": []
          },
          "execution_count": 14
        }
      ]
    },
    {
      "cell_type": "code",
      "metadata": {
        "id": "XcPobFrECllm"
      },
      "source": [
        "x = data[[\"home\", \"how_it_works\", \"contact\"]]\r\n",
        "y = data[\"bought\"]"
      ],
      "execution_count": 15,
      "outputs": []
    },
    {
      "cell_type": "code",
      "metadata": {
        "colab": {
          "base_uri": "https://localhost:8080/"
        },
        "id": "J7PWobt0C2cW",
        "outputId": "c0494b4e-940f-4a0b-e6b6-feb0f736b7b9"
      },
      "source": [
        "y"
      ],
      "execution_count": 16,
      "outputs": [
        {
          "output_type": "execute_result",
          "data": {
            "text/plain": [
              "0     0\n",
              "1     0\n",
              "2     0\n",
              "3     0\n",
              "4     0\n",
              "     ..\n",
              "94    0\n",
              "95    1\n",
              "96    0\n",
              "97    0\n",
              "98    0\n",
              "Name: bought, Length: 99, dtype: int64"
            ]
          },
          "metadata": {
            "tags": []
          },
          "execution_count": 16
        }
      ]
    },
    {
      "cell_type": "code",
      "metadata": {
        "colab": {
          "base_uri": "https://localhost:8080/"
        },
        "id": "j0rIB8ugDFbm",
        "outputId": "4a429e11-3e29-484c-e4f7-dccd4d872f91"
      },
      "source": [
        "y.head()"
      ],
      "execution_count": 17,
      "outputs": [
        {
          "output_type": "execute_result",
          "data": {
            "text/plain": [
              "0    0\n",
              "1    0\n",
              "2    0\n",
              "3    0\n",
              "4    0\n",
              "Name: bought, dtype: int64"
            ]
          },
          "metadata": {
            "tags": []
          },
          "execution_count": 17
        }
      ]
    },
    {
      "cell_type": "code",
      "metadata": {
        "colab": {
          "base_uri": "https://localhost:8080/"
        },
        "id": "Yz4mGk34DIBG",
        "outputId": "9b2bbdfe-7afd-4f2c-add3-d961c049df84"
      },
      "source": [
        "data.shape"
      ],
      "execution_count": 18,
      "outputs": [
        {
          "output_type": "execute_result",
          "data": {
            "text/plain": [
              "(99, 4)"
            ]
          },
          "metadata": {
            "tags": []
          },
          "execution_count": 18
        }
      ]
    },
    {
      "cell_type": "code",
      "metadata": {
        "colab": {
          "base_uri": "https://localhost:8080/"
        },
        "id": "T7D8VQI1D283",
        "outputId": "1b4be2f5-d00c-4cdf-d03a-bd09209cbe00"
      },
      "source": [
        "train_x = x[:75] \r\n",
        "train_y = y[:75]\r\n",
        "test_x = x[75:]\r\n",
        "test_y = y[75:]\r\n",
        "test_y.shape\r\n",
        "print(\"We will train it with %d elements and we will test it with %d elements\" % (len(train_x), len(test_x)))"
      ],
      "execution_count": 23,
      "outputs": [
        {
          "output_type": "stream",
          "text": [
            "We will train it with 75 elements and we will test it with 24 elements\n"
          ],
          "name": "stdout"
        }
      ]
    },
    {
      "cell_type": "code",
      "metadata": {
        "colab": {
          "base_uri": "https://localhost:8080/"
        },
        "id": "gIFASpHcEYha",
        "outputId": "fad814bd-5737-4cc6-8e00-1b92b8163e52"
      },
      "source": [
        "from sklearn.svm import LinearSVC\r\n",
        "from sklearn.metrics import accuracy_score\r\n",
        "model = LinearSVC()\r\n",
        "model.fit(train_x, train_y)\r\n",
        "predictions = model.predict(test_x)\r\n",
        "\r\n",
        "accuracy = accuracy_score(test_y, predictions) * 100\r\n",
        "print(\"The accuracy for this model was %.2f%%\" % accuracy)"
      ],
      "execution_count": 28,
      "outputs": [
        {
          "output_type": "stream",
          "text": [
            "The accuracy for this model was 95.83%\n"
          ],
          "name": "stdout"
        }
      ]
    },
    {
      "cell_type": "markdown",
      "metadata": {
        "id": "BI83R7ZcIuIb"
      },
      "source": [
        "# Using library to split test from train"
      ]
    },
    {
      "cell_type": "code",
      "metadata": {
        "colab": {
          "base_uri": "https://localhost:8080/"
        },
        "id": "mEaFpJ5JFIkD",
        "outputId": "cf572e11-d477-45ec-a5f8-c0707c1a26f0"
      },
      "source": [
        "from sklearn.model_selection import train_test_split\r\n",
        "from sklearn.svm import LinearSVC\r\n",
        "from sklearn.metrics import accuracy_score\r\n",
        "\r\n",
        "SEED = 20\r\n",
        "\r\n",
        "train_x, test_x, train_y, test_y = train_test_split(x, y, random_state = SEED, test_size = 0.25, stratify = y)\r\n",
        "print(train_x.shape)\r\n",
        "print(test_x.shape)\r\n",
        "print(\"We will train it with %d elements and we will test it with %d elements\" % (len(train_x), len(test_x)))\r\n",
        "\r\n",
        "model = LinearSVC()\r\n",
        "model.fit(train_x, train_y)\r\n",
        "predictions = model.predict(test_x)\r\n",
        "\r\n",
        "accuracy = accuracy_score(test_y, predictions) * 100\r\n",
        "print(\"The accuracy for this model was %.2f%%\" % accuracy)"
      ],
      "execution_count": 48,
      "outputs": [
        {
          "output_type": "stream",
          "text": [
            "(74, 3)\n",
            "(25, 3)\n",
            "We will train it with 74 elements and we will test it with 25 elements\n",
            "The accuracy for this model was 96.00%\n"
          ],
          "name": "stdout"
        }
      ]
    },
    {
      "cell_type": "code",
      "metadata": {
        "colab": {
          "base_uri": "https://localhost:8080/"
        },
        "id": "xVZbO3NIIEDr",
        "outputId": "0b703aae-ef13-4366-e03d-9c7451d98938"
      },
      "source": [
        "train_y.value_counts()\r\n",
        "test_y.value_counts()"
      ],
      "execution_count": 49,
      "outputs": [
        {
          "output_type": "execute_result",
          "data": {
            "text/plain": [
              "0    17\n",
              "1     8\n",
              "Name: bought, dtype: int64"
            ]
          },
          "metadata": {
            "tags": []
          },
          "execution_count": 49
        }
      ]
    },
    {
      "cell_type": "code",
      "metadata": {
        "id": "qzUzvhcHJxeO"
      },
      "source": [
        ""
      ],
      "execution_count": null,
      "outputs": []
    }
  ]
}